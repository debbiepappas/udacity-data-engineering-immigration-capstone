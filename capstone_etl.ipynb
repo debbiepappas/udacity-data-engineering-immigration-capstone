{
 "cells": [
  {
   "cell_type": "code",
   "execution_count": null,
   "metadata": {},
   "outputs": [],
   "source": [
    "#import all necessary files for capstone project\n",
    "import sys\n",
    "import glob\n",
    "import pandas as pd\n",
    "import numpy as np\n",
    "import json\n",
    "import boto3\n",
    "import configparser\n",
    "import datetime\n",
    "import os"
   ]
  },
  {
   "cell_type": "code",
   "execution_count": null,
   "metadata": {},
   "outputs": [],
   "source": [
    "# Point to the dl.cfg file to get the access and secret keys for reading and writing to S3 on AWS\n",
    "config = configparser.ConfigParser()\n",
    "config.read_file(open('dl.cfg'))"
   ]
  },
  {
   "cell_type": "code",
   "execution_count": null,
   "metadata": {},
   "outputs": [],
   "source": [
    "# Read the AWS access and secret keys\n",
    "os.environ[\"AWS_ACCESS_KEY_ID\"]=config['AWS']['AWS_ACCESS_KEY_ID']\n",
    "os.environ[\"AWS_SECRET_ACCESS_KEY\"]=config['AWS']['AWS_SECRET_ACCESS_KEY']"
   ]
  },
  {
   "cell_type": "code",
   "execution_count": null,
   "metadata": {},
   "outputs": [],
   "source": [
    "### Read immigration data for april in SAS format\n",
    "fname = '../../data/18-83510-I94-Data-2016/i94_apr16_sub.sas7bdat'\n",
    "df_immigr_apr = pd.read_sas(fname, 'sas7bdat', encoding=\"ISO-8859-1\")"
   ]
  },
  {
   "cell_type": "code",
   "execution_count": null,
   "metadata": {},
   "outputs": [],
   "source": [
    "### convert SAS immigration data to csv and do not include a column for index\n",
    "df_immigr_apr.to_csv(r'/home/workspace/immigr_apr.csv', index=False)"
   ]
  },
  {
   "cell_type": "code",
   "execution_count": null,
   "metadata": {},
   "outputs": [],
   "source": [
    "# read immigration data in csv format\n",
    "df_immigr_all = pd.read_csv(\"/home/workspace/immigr_apr.csv\" , low_memory = False )"
   ]
  },
  {
   "cell_type": "code",
   "execution_count": null,
   "metadata": {},
   "outputs": [],
   "source": [
    "# read immigration csv file and replace 'not available' values with empty string\n",
    "df_immigr_all = pd.read_csv('/home/workspace/immigr_apr.csv', na_values='', dtype=str, low_memory = False)"
   ]
  },
  {
   "cell_type": "code",
   "execution_count": null,
   "metadata": {},
   "outputs": [],
   "source": [
    "# drop columns ( i94cit','count','dtadfile','visapost','occup','entdepa', 'entdepd', 'entdepu',\n",
    "#'matflag','biryear', 'dtaddto', 'insnum') that are not being used for the data model.\n",
    "df_immigr2 = df_immigr_all.drop(['i94cit','count','dtadfile','visapost','occup','entdepa', 'entdepd', 'entdepu',\n",
    "                              'matflag','biryear', 'dtaddto', 'insnum'], axis=1)"
   ]
  },
  {
   "cell_type": "code",
   "execution_count": null,
   "metadata": {},
   "outputs": [],
   "source": [
    "# rename the columns in the immigration dataframe\n",
    "df_immigr2.rename(columns = {'cicid' : 'cic_id', 'i94yr' : 'year', 'i94mon':'month','i94res':'country','i94port':'us_port',\n",
    "                            'arrdate': 'arrival_date', 'i94mode' : 'travel_mode', 'i94addr':'us_state', 'depdate':'dep_date',\n",
    "                            'i94bir': 'age', 'i94visa':'visa_code',\n",
    "                            'biryear':'birth_year','admnum':'adm_num',\n",
    "                            'fltno':'flight_num'}, inplace = True )"
   ]
  },
  {
   "cell_type": "code",
   "execution_count": null,
   "metadata": {},
   "outputs": [],
   "source": [
    "# count rows with null values in immigration dataframe\n",
    "df_immigr2_isnull = df_immigr2[df_immigr2.isnull().any(axis=1)]\n",
    "df_immigr2_isnull\n",
    "df_immigr2_isnull.count()"
   ]
  },
  {
   "cell_type": "code",
   "execution_count": null,
   "metadata": {},
   "outputs": [],
   "source": [
    "# drop all null values in the immigration dataframe and count the rows of the final dataframe\n",
    "df_immigr2.dropna(inplace=True)\n",
    "df_immigr2.reset_index(drop=True, inplace=True)\n",
    "df_immigr2.count()"
   ]
  },
  {
   "cell_type": "code",
   "execution_count": null,
   "metadata": {},
   "outputs": [],
   "source": [
    "# list the columns to be converted to integer datatype\n",
    "cols = ['cic_id', 'year', 'month', 'country', 'arrival_date', 'dep_date', 'age', 'adm_num', 'travel_mode', 'visa_code' ]"
   ]
  },
  {
   "cell_type": "code",
   "execution_count": null,
   "metadata": {},
   "outputs": [],
   "source": [
    "# first convert columns to float\n",
    "df_immigr2[cols] = df_immigr2[cols].applymap(np.float64)"
   ]
  },
  {
   "cell_type": "code",
   "execution_count": null,
   "metadata": {},
   "outputs": [],
   "source": [
    "# convert columns to integer\n",
    "df_immigr2[cols] = df_immigr2[cols].applymap(np.int64)"
   ]
  },
  {
   "cell_type": "code",
   "execution_count": null,
   "metadata": {},
   "outputs": [],
   "source": [
    "# Convert arrival date from SAS to date type format\n",
    "df_immigr2['arrival_date'] = pd.to_timedelta(df_immigr2['arrival_date'], unit='D') + pd.Timestamp('1960-1-1')"
   ]
  },
  {
   "cell_type": "code",
   "execution_count": null,
   "metadata": {},
   "outputs": [],
   "source": [
    "# Convert departure date from SAS to date type format\n",
    "df_immigr2['dep_date'] = pd.to_timedelta(df_immigr2['dep_date'], unit='D') + pd.Timestamp('1960-1-1')"
   ]
  },
  {
   "cell_type": "code",
   "execution_count": null,
   "metadata": {},
   "outputs": [],
   "source": [
    "# replace visa_code and and travel_mode with the proper code in string value\n",
    "replace_values_code = { 1.0 : 'Business', 2.0 : 'Pleasure', 3.0 : 'Student' }\n",
    "replace_values_mode = {1.0 : 'Air', 2.0 : 'Sea' , 3.0 : 'Land', 9.0 : 'Not reported'}\n",
    "df_immigr3 = df_immigr2.replace({\"visa_code\": replace_values_code, \"travel_mode\" : replace_values_mode})                                                                                             \n",
    "df_immigr3.head() "
   ]
  },
  {
   "cell_type": "code",
   "execution_count": null,
   "metadata": {},
   "outputs": [],
   "source": [
    "#df_immigr3.head()\n",
    "#df_immigr3.dtpyes"
   ]
  },
  {
   "cell_type": "code",
   "execution_count": null,
   "metadata": {},
   "outputs": [],
   "source": [
    "df_immigr3.to_csv(r'/home/workspace/immigr_apr_final.csv', index=False)"
   ]
  },
  {
   "cell_type": "code",
   "execution_count": null,
   "metadata": {},
   "outputs": [],
   "source": [
    "# load the immigration data file to s3 bucket\n",
    "s3 = boto3.client('s3')\n",
    "s3.upload_file(\"/home/workspace/immigr_apr_final.csv\", 'capstone-bucket-immigr', 'staging_immigr.csv')"
   ]
  },
  {
   "cell_type": "code",
   "execution_count": null,
   "metadata": {},
   "outputs": [],
   "source": [
    "################ CREATE STAGING_DEMO TABLE #################################################"
   ]
  },
  {
   "cell_type": "code",
   "execution_count": null,
   "metadata": {},
   "outputs": [],
   "source": [
    "df_demo1 = pd.read_csv('/home/workspace/us-cities-demographics.csv')"
   ]
  },
  {
   "cell_type": "code",
   "execution_count": null,
   "metadata": {},
   "outputs": [],
   "source": [
    "#header = 'City;State;Median Age;Male Population;Female Population;Total Population;\\\n",
    "#Number of Veterans;Foreign-born;Average Household Size;State Code;Race;Count'\n",
    "# split the header with semicolon deliminator to columns\n",
    "df_demo2 = df_demo1['City;State;Median Age;Male Population;Female Population;Total Population;\\\n",
    "Number of Veterans;Foreign-born;Average Household Size;State Code;Race;Count'].str.split(';', 12, expand=True)\\\n",
    ".rename(columns={0:'city', 1:'state_long',  2:'median_age', 3:'male_pop', 4:'female_pop', 5:'total_pop', 6:'veterans',\\\n",
    "                7:'foreign_born', 8:'house_size', 9:'state', 10:'race', 11:'race_count'})"
   ]
  },
  {
   "cell_type": "code",
   "execution_count": null,
   "metadata": {},
   "outputs": [],
   "source": [
    "# drop 'state_long' which will not be used in data model\n",
    "df_demo2 = df_demo2.drop(columns=['state_long'])"
   ]
  },
  {
   "cell_type": "code",
   "execution_count": null,
   "metadata": {},
   "outputs": [],
   "source": [
    "df_demo2.to_csv(r'/home/workspace/immigr_apr_final.csv', index=False)"
   ]
  },
  {
   "cell_type": "code",
   "execution_count": null,
   "metadata": {},
   "outputs": [],
   "source": [
    "# read demographics csv file with 'not available' values as empty and datatype as string\n",
    "df_demo2 = pd.read_csv('/home/workspace/demo3_final.csv', na_values='', dtype=str)                    "
   ]
  },
  {
   "cell_type": "code",
   "execution_count": null,
   "metadata": {},
   "outputs": [],
   "source": [
    "# count demographics dataframe null values\n",
    "demo_isnull = df_demo2[df_demo2.isnull().any(axis=1)]\n",
    "demo_isnull.count()"
   ]
  },
  {
   "cell_type": "code",
   "execution_count": null,
   "metadata": {},
   "outputs": [],
   "source": [
    "# drop rows with 'not available' values and count the remaining rows\n",
    "df_demo3 = df_demo2.dropna()\n",
    "df_demo3.count()"
   ]
  },
  {
   "cell_type": "code",
   "execution_count": null,
   "metadata": {},
   "outputs": [],
   "source": [
    "# list columns that should be integer\n",
    "cols = ['median_age', 'male_pop','female_pop','total_pop', 'veterans','foreign_born', 'house_size','race_count']"
   ]
  },
  {
   "cell_type": "code",
   "execution_count": null,
   "metadata": {},
   "outputs": [],
   "source": [
    "# first convert column datatypes to float \n",
    "df_demo3[cols] = df_demo3[cols].applymap(np.float64)"
   ]
  },
  {
   "cell_type": "code",
   "execution_count": null,
   "metadata": {},
   "outputs": [],
   "source": [
    "# convert columns datatypes to integer\n",
    "df_demo3[cols] = df_demo3[cols].applymap(np.int64)"
   ]
  },
  {
   "cell_type": "code",
   "execution_count": null,
   "metadata": {},
   "outputs": [],
   "source": [
    "df_demo3.to_json('/home/workspace/demo_final.json')"
   ]
  },
  {
   "cell_type": "code",
   "execution_count": null,
   "metadata": {},
   "outputs": [],
   "source": [
    "staging_demo = pd.read_json('/home/workspace/demo_final.json')"
   ]
  },
  {
   "cell_type": "code",
   "execution_count": null,
   "metadata": {},
   "outputs": [],
   "source": [
    "# use for loop to write each row to a json file in demographics direcotory on local machine\n",
    "s3 = boto3.client('s3')\n",
    "for i in staging_demo.index:\n",
    "    staging_demo.loc[i].to_json(\"demographics/demo{}.json\".format(i))"
   ]
  },
  {
   "cell_type": "code",
   "execution_count": null,
   "metadata": {},
   "outputs": [],
   "source": [
    "# use for loop to load json files to bucket on s3\n",
    "for i in staging_demo.index:\n",
    "    s3.upload_file(\"/home/workspace/demographics/demo{}.json\".format(i), 'capstone-bucket-demo', 'demo{}.json'.format(i))"
   ]
  },
  {
   "cell_type": "code",
   "execution_count": null,
   "metadata": {},
   "outputs": [],
   "source": []
  }
 ],
 "metadata": {
  "kernelspec": {
   "display_name": "Python 3",
   "language": "python",
   "name": "python3"
  },
  "language_info": {
   "codemirror_mode": {
    "name": "ipython",
    "version": 3
   },
   "file_extension": ".py",
   "mimetype": "text/x-python",
   "name": "python",
   "nbconvert_exporter": "python",
   "pygments_lexer": "ipython3",
   "version": "3.6.3"
  }
 },
 "nbformat": 4,
 "nbformat_minor": 4
}
